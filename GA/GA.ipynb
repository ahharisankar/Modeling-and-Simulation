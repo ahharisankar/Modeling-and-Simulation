{
 "cells": [
  {
   "cell_type": "markdown",
   "id": "48ed2928",
   "metadata": {},
   "source": [
    "# GA Implementaiton for predicting a Text"
   ]
  },
  {
   "cell_type": "code",
   "execution_count": null,
   "id": "eb86569a",
   "metadata": {},
   "outputs": [],
   "source": [
    "using Random , Plots\n",
    "Random.seed!(123)"
   ]
  },
  {
   "cell_type": "code",
   "execution_count": null,
   "id": "1842625e",
   "metadata": {},
   "outputs": [],
   "source": [
    "const TARGET = \"Evolving Ideas with julia\"\n",
    "const TARGET_CHARS = collect(TARGET)\n",
    "const GENES = vcat(collect('A':'Z'), collect('a':'z'), collect('0':'9'),[' ', '!', ',', '.', '?', '-', ':', ';'])\n"
   ]
  },
  {
   "cell_type": "code",
   "execution_count": null,
   "id": "4a433a0c",
   "metadata": {},
   "outputs": [],
   "source": [
    "random_gene() = rand(GENES)\n",
    "random_chromosome() = [random_gene() for _ in 1:length(TARGET_CHARS)]\n",
    "\n",
    "function fitness_finder(genes::Vector{Char})\n",
    "    error = 0\n",
    "    for i in eachindex(TARGET_CHARS)\n",
    "        if genes[i] != TARGET_CHARS[i]\n",
    "            error += 1\n",
    "        end\n",
    "    end\n",
    "    return error\n",
    "end\n",
    "\n",
    "struct Chromosome\n",
    "    genes::Vector{Char}\n",
    "    fitness::Int\n",
    "end\n",
    "\n",
    "function Chromosome(genes::Vector{Char})\n",
    "    Chromosome(genes, fitness_finder(genes))\n",
    "end\n",
    "\n",
    "function init_population(pop_size::Int)\n",
    "    [Chromosome(random_chromosome()) for _ in 1:pop_size]\n",
    "end"
   ]
  },
  {
   "cell_type": "code",
   "execution_count": null,
   "id": "5ff2504b",
   "metadata": {},
   "outputs": [],
   "source": [
    "function crossover(parent1::Chromosome, parent2::Chromosome; mutation_rate=0.1)\n",
    "    child_genes = Char[]\n",
    "    for i in 1:length(TARGET_CHARS)\n",
    "        r = rand()\n",
    "        if r < 0.45\n",
    "            push!(child_genes, parent1.genes[i])\n",
    "        elseif r < 1-mutation_rate\n",
    "            push!(child_genes, parent2.genes[i])\n",
    "        else\n",
    "            # Mutation: insert a random gene\n",
    "            push!(child_genes, random_gene())\n",
    "        end\n",
    "    end\n",
    "    return Chromosome(child_genes)\n",
    "end\n",
    "\n",
    "# function crossover(parent1::Chromosome, parent2::Chromosome; mutation_rate=0.5)\n",
    "#     child_genes = Char[]\n",
    "#     for i in 1:length(TARGET_CHARS)\n",
    "#         # Choose gene from parent1 or parent2 with 50% probability each\n",
    "#         gene = rand() < 0.5 ? parent1.genes[i] : parent2.genes[i]\n",
    "\n",
    "#         # Apply mutation with given probability\n",
    "#         if rand() < mutation_rate\n",
    "#             gene = random_gene()\n",
    "#         end\n",
    "\n",
    "#         push!(child_genes, gene)\n",
    "#     end\n",
    "#     return Chromosome(child_genes)\n",
    "# end\n"
   ]
  },
  {
   "cell_type": "code",
   "execution_count": null,
   "id": "2dc1852e",
   "metadata": {},
   "outputs": [],
   "source": [
    "function next_generation(population::Vector{Chromosome})\n",
    "    # Sort by fitness (best first)\n",
    "    population_sorted = sort(population, by = c -> c.fitness)\n",
    "    \n",
    "    new_generation = Chromosome[]\n",
    "    \n",
    "    # 1. Elitism (keep top 15%)\n",
    "    elite_count = Int(floor(0.15 * length(population)))\n",
    "    append!(new_generation, population_sorted[1:elite_count])\n",
    "    \n",
    "    # 2. Crossover (fill rest of population)\n",
    "    half = length(population) ÷ 2   # top 50%\n",
    "    while length(new_generation) < length(population)\n",
    "        parent1 = rand(population_sorted[1:half])\n",
    "        parent2 = rand(population_sorted[1:half])\n",
    "        child = crossover(parent1, parent2)\n",
    "        push!(new_generation, child)\n",
    "    end\n",
    "    \n",
    "    return new_generation\n",
    "end\n",
    "\n"
   ]
  },
  {
   "cell_type": "code",
   "execution_count": null,
   "id": "3718e304",
   "metadata": {},
   "outputs": [],
   "source": [
    "# Run until perfect match\n",
    "population = init_population(100)\n",
    "gen = 0\n",
    "fitness_history = Int[]\n",
    "\n",
    "while true\n",
    "    gen += 1\n",
    "    population = next_generation(population)\n",
    "    \n",
    "    # Find best\n",
    "    best = findmin([c.fitness for c in population])\n",
    "    best_chromosome = population[best[2]]\n",
    "    \n",
    "    println(\"Generation $gen | Best candidate: \",\n",
    "            String(best_chromosome.genes), \" | Fitness=\", best_chromosome.fitness)\n",
    "    \n",
    "    # Save fitness\n",
    "    push!(fitness_history, best_chromosome.fitness)\n",
    "\n",
    "    # Stop if perfect\n",
    "    if best_chromosome.fitness == 0\n",
    "        println(\"\\n🎉 Target reached in generation $gen\")\n",
    "        break\n",
    "    end\n",
    "end\n",
    "\n",
    "# Plot the convergence\n",
    "plot(fitness_history, xlabel=\"Generation\", ylabel=\"Fitness (errors)\", \n",
    "     title=\"GA Convergence\", legend=false)\n"
   ]
  }
 ],
 "metadata": {
  "kernelspec": {
   "display_name": "Julia 1.11.6",
   "language": "julia",
   "name": "julia-1.11"
  },
  "language_info": {
   "file_extension": ".jl",
   "mimetype": "application/julia",
   "name": "julia",
   "version": "1.11.6"
  }
 },
 "nbformat": 4,
 "nbformat_minor": 5
}
