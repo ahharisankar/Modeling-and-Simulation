{
 "cells": [
  {
   "cell_type": "markdown",
   "id": "00f7cb7d",
   "metadata": {},
   "source": [
    "# FitzHugh–Nagumo neuron system"
   ]
  },
  {
   "cell_type": "code",
   "execution_count": 1,
   "id": "953c9d91",
   "metadata": {},
   "outputs": [
    {
     "data": {
      "text/plain": [
       "\"FitzHugh-Nagumo_Neuoron_system.mp4\""
      ]
     },
     "metadata": {},
     "output_type": "display_data"
    }
   ],
   "source": [
    "using ModelingToolkit, DifferentialEquations, GLMakie\n",
    "using ModelingToolkit: t_nounits as t, D_nounits as D\n",
    "\n",
    "# FitzHugh–Nagumo parameters\n",
    "@parameters ε a b A ω\n",
    "@variables v(t) w(t) I(t)\n",
    "\n",
    "# Differential equations\n",
    "eqs = [\n",
    "    D(v) ~ v - (v^3)/3 - w + I,\n",
    "    D(w) ~ ε * (v + a - b*w),\n",
    "    I ~ A * sin(ω * t)\n",
    "]\n",
    "\n",
    "@mtkbuild odesys = ODESystem(eqs, t)\n",
    "\n",
    "# Simulation settings\n",
    "tspan = (0.0, 100.0)\n",
    "timesteps = 0.0:0.1:100.0\n",
    "u0 = [v => -1.0, w => 1.0]\n",
    "p = [ε => 0.08, a => 0.7, b => 0.8, A => 1.0, ω => 0.2]\n",
    "\n",
    "# Solve\n",
    "prob = ODEProblem(odesys, u0, tspan, p)\n",
    "sol = solve(prob, Tsit5(); saveat=timesteps, abstol=1e-8, reltol=1e-6)\n",
    "\n",
    "# Extract values\n",
    "ts = sol.t\n",
    "vs = sol[v]\n",
    "ws = sol[w]\n",
    "Is = sol[I]\n",
    "\n",
    "# Estimate dv/dt for state classification\n",
    "dvs = [0; diff(vs) ./ diff(ts)]\n",
    "\n",
    "# Classify function\n",
    "function classify_state(v, dv)\n",
    "    if v > 1.0\n",
    "        \" Spiking\"\n",
    "    elseif v < -0.5 && dv < 0\n",
    "        \" Recovering\"\n",
    "    elseif abs(dv) < 0.02 && abs(v) < 0.5\n",
    "        \" Resting\"\n",
    "    else\n",
    "        \"↔ Transition\"\n",
    "    end\n",
    "end\n",
    "\n",
    "# Setup figure\n",
    "fig = Figure(size=(1000, 500))\n",
    "ax1 = Axis(fig[1, 1], xlabel=\"Time\", ylabel=\"Voltage v(t)\", title=\"Neuron Voltage & Input Current\")\n",
    "ax2 = Axis(fig[1, 2], xlabel=\"v\", ylabel=\"w\", title=\"Phase Portrait (v vs w)\")\n",
    "\n",
    "# Plot voltage & current\n",
    "lines!(ax1, ts, vs, color=:blue, label=\"v(t)\")\n",
    "lines!(ax1, ts, Is, color=:green, label=\"I(t)\")\n",
    "GLMakie.hlines!(ax1, [1.0], linestyle=:dot, color=:red, label=\"Threshold v=1\")\n",
    "axislegend(ax1)\n",
    "\n",
    "# Phase portrait\n",
    "lines!(ax2, vs, ws, color=:purple)\n",
    "\n",
    "# Animation markers\n",
    "frame_idx = Observable(1)\n",
    "dot_orbit = scatter!(ax2, [vs[1]], [ws[1]], color=:black, markersize=8)\n",
    "dot_v = scatter!(ax1, [ts[1]], [vs[1]], color=:black, markersize=8)\n",
    "vline = vlines!(ax1, [ts[1]], color=:gray, linestyle=:dash)\n",
    "\n",
    "# Labels\n",
    "value_label = Label(fig[0, :], \"Time: $(ts[1])   v(t): $(vs[1])   I(t): $(Is[1])\", fontsize=16)\n",
    "state_label = Label(fig[2, :], \"State: $(classify_state(vs[1], dvs[1]))\", fontsize=18, halign=:center, color=:darkblue)\n",
    "\n",
    "# Update function\n",
    "on(frame_idx) do i\n",
    "    i = clamp(i, 1, length(ts))\n",
    "    dot_orbit[1][] = [Point2f(vs[i], ws[i])]\n",
    "    dot_v[1][] = [Point2f(ts[i], vs[i])]\n",
    "    vline[1][] = [ts[i]]\n",
    "    value_label.text[] = \"Time: $(round(ts[i], digits=2))   v(t): $(round(vs[i], digits=3))   I(t): $(round(Is[i], digits=3))\"\n",
    "    state_label.text[] = \"State: $(classify_state(vs[i], dvs[i]))\"\n",
    "end\n",
    "\n",
    "# Record animation\n",
    "record(fig, \"FitzHugh-Nagumo_Neuoron_system.mp4\", 1:length(ts); framerate=20) do i\n",
    "    frame_idx[] = i\n",
    "end\n"
   ]
  }
 ],
 "metadata": {
  "kernelspec": {
   "display_name": "Julia 1.11.5",
   "language": "julia",
   "name": "julia-1.11"
  },
  "language_info": {
   "file_extension": ".jl",
   "mimetype": "application/julia",
   "name": "julia",
   "version": "1.11.5"
  }
 },
 "nbformat": 4,
 "nbformat_minor": 5
}
