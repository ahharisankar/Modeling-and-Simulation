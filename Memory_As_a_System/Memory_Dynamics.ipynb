{
 "cells": [
  {
   "cell_type": "markdown",
   "id": "d0ef514a",
   "metadata": {},
   "source": [
    "## Loading Libraries"
   ]
  },
  {
   "cell_type": "code",
   "execution_count": null,
   "id": "6ecd35ab",
   "metadata": {},
   "outputs": [],
   "source": [
    "using ModelingToolkit\n",
    "using GLMakie\n",
    "using ModelingToolkit: t_nounits as t, D_nounits as D\n",
    "using OrdinaryDiffEq"
   ]
  },
  {
   "cell_type": "code",
   "execution_count": null,
   "id": "25f539aa",
   "metadata": {},
   "outputs": [],
   "source": [
    "\n",
    "# Simulation settings\n",
    "\n",
    "\n",
    "@parameters α β A\n",
    "@variables M(t)\n",
    "tspan = (0.0, 50.0)\n",
    "timesteps = 0.0:0.1:50.0\n",
    "α_val = 1.0\n",
    "β_val = 0.1\n",
    "A_val = 1.0\n",
    "reinforce_interval = 10.0\n",
    "noise_fraction = 0.2\n",
    "width = 0.5\n"
   ]
  },
  {
   "cell_type": "markdown",
   "id": "f24df26a",
   "metadata": {},
   "source": [
    "## No_Reinforcement"
   ]
  },
  {
   "cell_type": "code",
   "execution_count": null,
   "id": "5077df21",
   "metadata": {},
   "outputs": [],
   "source": [
    "eqs1 = [D(M) ~ - β*M]\n",
    "@mtkbuild memsys1 = ODESystem(eqs1, t)\n",
    "u0 = [M => 1.0]\n",
    "p1 = [α => α_val, β => β_val, A => A_val]\n",
    "prob1 = ODEProblem(memsys1, u0, tspan, p1)\n",
    "sol1 = solve(prob1, Tsit5(); saveat=timesteps)\n",
    "\n",
    "fig1 = Figure(resolution=(600,400))\n",
    "ax1 = Axis(fig1[1,1], xlabel=\"Time\", ylabel=\"Memory Strength\", title=\"Case 1: No Reinforcement (The Cram)\")\n",
    "lines!(ax1, sol1.t, sol1[1,:], color=:red, linewidth=3)\n",
    "display(fig1)"
   ]
  },
  {
   "cell_type": "markdown",
   "id": "d0f5d8b4",
   "metadata": {},
   "source": [
    "## Periodic Reinforcement"
   ]
  },
  {
   "cell_type": "code",
   "execution_count": null,
   "id": "27f34741",
   "metadata": {},
   "outputs": [],
   "source": [
    "# Smooth pulse for periodic reinforcement\n",
    "function smooth_pulse(t, interval, width, A)\n",
    "    sum(A * exp(-(t - n*interval)^2 / (2*width^2)) for n in 0:ceil(Int, tspan[2]/interval))\n",
    "end\n",
    "\n",
    "eqs2 = [D(M) ~ α * smooth_pulse(t, reinforce_interval, width, A) - β*M]\n",
    "@mtkbuild memsys2 = ODESystem(eqs2, t)\n",
    "p2 = [α => α_val, β => β_val, A => A_val]\n",
    "prob2 = ODEProblem(memsys2, u0, tspan, p2)\n",
    "sol2 = solve(prob2, Tsit5(); saveat=timesteps)\n",
    "\n",
    "fig2 = Figure(resolution=(600,400))\n",
    "ax2 = Axis(fig2[1,1], xlabel=\"Time\", ylabel=\"Memory Strength\", title=\"Case 2: Periodic Reinforcement (Spaced Repetition)\")\n",
    "lines!(ax2, sol2.t, sol2[1,:], color=:green, linewidth=3)\n",
    "display(fig2)"
   ]
  },
  {
   "cell_type": "markdown",
   "id": "e8634ce5",
   "metadata": {},
   "source": [
    "## Reinforcement with Noise"
   ]
  },
  {
   "cell_type": "code",
   "execution_count": null,
   "id": "bf86307c",
   "metadata": {},
   "outputs": [],
   "source": [
    "pulse_noisy = smooth_pulse(t, reinforce_interval, width*0.5, A*0.7)     \n",
    "\n",
    "eqs3 = [D(M) ~ α * pulse_noisy - β*M]\n",
    "@mtkbuild memsys3 = ODESystem(eqs3, t)\n",
    "p3 = [α => α_val, β => β_val, A => A_val]\n",
    "prob3 = ODEProblem(memsys3, u0, tspan, p3)\n",
    "sol3 = solve(prob3, Tsit5(); saveat=timesteps)\n",
    "\n",
    "fig3 = Figure(resolution=(600,400))\n",
    "ax3 = Axis(fig3[1,1], xlabel=\"Time\", ylabel=\"Memory Strength\", title=\"Case 3: Reinforcement + Noise (Reduced Strength)\")\n",
    "lines!(ax3, sol3.t, sol3[1,:], color=:blue, linewidth=3)\n",
    "display(fig3)"
   ]
  },
  {
   "cell_type": "markdown",
   "id": "e653278a",
   "metadata": {},
   "source": [
    "## Visualization"
   ]
  },
  {
   "cell_type": "code",
   "execution_count": null,
   "id": "bf10f8d1",
   "metadata": {},
   "outputs": [],
   "source": [
    "fig = Figure(size=(1000, 800), fontsize=14, backgroundcolor=:white)\n",
    "\n",
    "\n",
    "# 2x2 Grid of Axes\n",
    "\n",
    "ax1 = Axis(fig[2,1], xlabel=\"Time\", ylabel=\"Memory Strength\", title=\"Case 1: No Reinforcement (The Cram)\")\n",
    "ax2 = Axis(fig[2,2], xlabel=\"Time\", ylabel=\"Memory Strength\", title=\"Case 2: Periodic Reinforcement (Spaced Repetition)\")\n",
    "ax3 = Axis(fig[3,1], xlabel=\"Time\", ylabel=\"Memory Strength\", title=\"Case 3: Reinforcement + Noise (Real-World Learning)\")\n",
    "ax4 = Axis(fig[3,2], xlabel=\"Time\", ylabel=\"Memory Strength\", title=\"Overlay Comparison\")\n",
    "\n",
    "\n",
    "# Plot Lines\n",
    "\n",
    "l1 = lines!(ax1, sol1.t, sol1[1,:], color=:red, linewidth=2.5)\n",
    "l2 = lines!(ax2, sol2.t, sol2[1,:], color=:green, linewidth=2.5)\n",
    "l3 = lines!(ax3, sol3.t, sol3[1,:], color=:blue, linewidth=2.5)\n",
    "\n",
    "# Overlay plot\n",
    "l4 = lines!(ax4, sol1.t, sol1[1,:], color=:red, linewidth=2.5, label=\"No Reinforcement\")\n",
    "l5 = lines!(ax4, sol2.t, sol2[1,:], color=:green, linewidth=2.5, label=\"Periodic Reinforcement\")\n",
    "l6 = lines!(ax4, sol3.t, sol3[1,:], color=:blue, linewidth=2.5, linestyle=:dash, label=\"Reinforcement + Noise\")\n",
    "\n",
    "\n",
    "# Common Legend at the top\n",
    "\n",
    "common_legend = Legend(fig, [l4, l5, l6], [\"No Reinforcement\", \"Periodic Reinforcement\", \"Reinforcement + Noise\"],\n",
    "                       framevisible=false, orientation=:horizontal, halign=:center)\n",
    "\n",
    "fig[1,1:2] = common_legend\n",
    "\n",
    "\n",
    "# Auto-fit all axes\n",
    "\n",
    "for ax in (ax1, ax2, ax3, ax4)\n",
    "    autolimits!(ax)\n",
    "end\n",
    "\n",
    "display(fig)\n",
    "GLMakie.save(\"Memory_Dynamics.png\", fig)\n"
   ]
  },
  {
   "cell_type": "code",
   "execution_count": null,
   "id": "9292e869",
   "metadata": {},
   "outputs": [],
   "source": [
    "\n",
    "\n",
    "\n",
    "# Figure setup\n",
    "\n",
    "fig = Figure(size=(1000, 800), fontsize=14, backgroundcolor=:white)\n",
    "\n",
    "\n",
    "ax1 = Axis(fig[2,1], xlabel=\"Time\", ylabel=\"Memory Strength\", title=\"No Reinforcement (The Cram)\")\n",
    "ax2 = Axis(fig[2,2], xlabel=\"Time\", ylabel=\"Memory Strength\", title=\"Periodic Reinforcement (Spaced Repetition)\")\n",
    "ax3 = Axis(fig[3,1], xlabel=\"Time\", ylabel=\"Memory Strength\", title=\"Noisy Reinforcement (Real-World Learning)\")\n",
    "ax4 = Axis(fig[3,2], xlabel=\"Time\", ylabel=\"Memory Strength\", title=\"Overlay Comparison\")\n",
    "\n",
    "\n",
    "# Plot static curves\n",
    "\n",
    "l1 = lines!(ax1, sol1.t, sol1[1,:], color=:red, linewidth=2.5)\n",
    "l2 = lines!(ax2, sol2.t, sol2[1,:], color=:green, linewidth=2.5)\n",
    "l3 = lines!(ax3, sol3.t, sol3[1,:], color=:blue, linewidth=2.5)\n",
    "\n",
    "l4 = lines!(ax4, sol1.t, sol1[1,:], color=:red, linewidth=2.5, label=\"No Reinforcement\")\n",
    "l5 = lines!(ax4, sol2.t, sol2[1,:], color=:green, linewidth=2.5, label=\"Periodic Reinforcement\")\n",
    "l6 = lines!(ax4, sol3.t, sol3[1,:], color=:blue, linewidth=2.5, linestyle=:dash, label=\"Reinforcement + Noise\")\n",
    "\n",
    "\n",
    "# Common legend at top\n",
    "\n",
    "common_legend = Legend(fig, [l4, l5, l6], [\"No Reinforcement\", \"Periodic Reinforcement\", \"Reinforcement + Noise\"],\n",
    "                       framevisible=false, orientation=:horizontal, halign=:center)\n",
    "fig[1,1:2] = common_legend \n",
    "\n",
    "\n",
    "# Animated dots\n",
    "\n",
    "frame_idx = Observable(1)\n",
    "dots1 = scatter!(ax1, [sol1.t[1]], [sol1[1,1]], color=:black, markersize=8)\n",
    "dots2 = scatter!(ax2, [sol2.t[1]], [sol2[1,1]], color=:black, markersize=8)\n",
    "dots3 = scatter!(ax3, [sol3.t[1]], [sol3[1,1]], color=:black, markersize=8)\n",
    "dots4a = scatter!(ax4, [sol1.t[1]], [sol1[1,1]], color=:black, markersize=8)\n",
    "dots4b = scatter!(ax4, [sol2.t[1]], [sol2[1,1]], color=:orange, markersize=8)\n",
    "dots4c = scatter!(ax4, [sol3.t[1]], [sol3[1,1]], color=:purple, markersize=8)\n",
    "\n",
    "on(frame_idx) do i\n",
    "    i = clamp(i, 1, length(sol1.t))\n",
    "    dots1[1][] = [Point2f(sol1.t[i], sol1[1,i])]\n",
    "    dots2[1][] = [Point2f(sol2.t[i], sol2[1,i])]\n",
    "    dots3[1][] = [Point2f(sol3.t[i], sol3[1,i])]\n",
    "    dots4a[1][] = [Point2f(sol1.t[i], sol1[1,i])]\n",
    "    dots4b[1][] = [Point2f(sol2.t[i], sol2[1,i])]\n",
    "    dots4c[1][] = [Point2f(sol3.t[i], sol3[1,i])]\n",
    "end\n",
    "\n",
    "\n",
    "# Record animation\n",
    "\n",
    "record(fig, \"Memory_Dynamics.mp4\", 1:length(sol1.t); framerate=20) do i\n",
    "    frame_idx[] = i\n",
    "end\n"
   ]
  }
 ],
 "metadata": {
  "kernelspec": {
   "display_name": "Julia 1.11.6",
   "language": "julia",
   "name": "julia-1.11"
  },
  "language_info": {
   "file_extension": ".jl",
   "mimetype": "application/julia",
   "name": "julia",
   "version": "1.11.6"
  }
 },
 "nbformat": 4,
 "nbformat_minor": 5
}
